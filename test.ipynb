{
 "cells": [
  {
   "cell_type": "code",
   "execution_count": 7,
   "metadata": {},
   "outputs": [
    {
     "name": "stderr",
     "output_type": "stream",
     "text": [
      "/tmp/ipykernel_58832/824515244.py:19: FutureWarning: ``mlflow.tracking.client.MlflowClient.get_latest_versions`` is deprecated since 2.9.0. Model registry stages will be removed in a future major release. To learn more about the deprecation of model registry stages, see our migration guide here: https://mlflow.org/docs/latest/model-registry.html#migrating-from-stages\n",
      "  versions = client.get_latest_versions(model_name, stages=[\"Production\"])\n"
     ]
    },
    {
     "name": "stdout",
     "output_type": "stream",
     "text": [
      "Latest version in Production: 4, Run ID: 6c6a46cd33d14bf2aef430592b04cdd3\n",
      "Logged Model: runs:/6c6a46cd33d14bf2aef430592b04cdd3/DT\n",
      "Model loaded from runs:/6c6a46cd33d14bf2aef430592b04cdd3/DT\n"
     ]
    }
   ],
   "source": [
    "import mlflow\n",
    "import pandas as pd\n",
    "\n",
    "# Set the tracking URI to your DagsHub MLflow instance\n",
    "mlflow.set_tracking_uri(\"https://dagshub.com/HassanBarka/MLOps.mlflow\") \n",
    "reports_path = \"./models/run_info.json\"\n",
    "with open(reports_path, 'r') as file:\n",
    "    run_info = json.load(file)\n",
    "\n",
    "model_name = run_info['model_name']  \n",
    "\n",
    "\n",
    "\n",
    "try:\n",
    "    # Create an MlflowClient to interact with the MLflow server\n",
    "    client = mlflow.tracking.MlflowClient()\n",
    "\n",
    "    # Get the latest version of the model in the Production stage\n",
    "    versions = client.get_latest_versions(model_name, stages=[\"Production\"])\n",
    "\n",
    "    if versions:\n",
    "        latest_version = versions[0].version\n",
    "        run_id = versions[0].run_id  # Fetching the run ID from the latest version\n",
    "        print(f\"Latest version in Production: {latest_version}, Run ID: {run_id}\")\n",
    "\n",
    "        # Construct the logged_model string\n",
    "        logged_model = f'runs:/{run_id}/{model_name}'\n",
    "        print(\"Logged Model:\", logged_model)\n",
    "\n",
    "        # Load the model using the logged_model variable\n",
    "        loaded_model = mlflow.pyfunc.load_model(logged_model)\n",
    "        print(f\"Model loaded from {logged_model}\")\n",
    "\n",
    "        # # Input data for prediction\n",
    "        # data = pd.DataFrame({\n",
    "        #     'ph': [3.71608],\n",
    "        #     'Hardness': [204.89045],\n",
    "        #     'Solids': [20791.318981],\n",
    "        #     'Chloramines': [7.300212],\n",
    "        #     'Sulfate': [368.516441],\n",
    "        #     'Conductivity': [564.308654],\n",
    "        #     'Organic_carbon': [10.379783],\n",
    "        #     'Trihalomethanes': [86.99097],\n",
    "        #     'Turbidity': [2.963135]\n",
    "        # })\n",
    "\n",
    "        # # Make prediction\n",
    "        # prediction = loaded_model.predict(data)\n",
    "        # print(\"Prediction:\", prediction)\n",
    "    else:\n",
    "        print(\"No model found in the 'Production' stage.\")\n",
    "\n",
    "except Exception as e:\n",
    "    print(f\"Error fetching model: {e}\")"
   ]
  },
  {
   "cell_type": "code",
   "execution_count": null,
   "metadata": {},
   "outputs": [],
   "source": []
  },
  {
   "cell_type": "code",
   "execution_count": 21,
   "metadata": {},
   "outputs": [],
   "source": [
    "from backend.example_json.drought_info import DroughtModel\n",
    "from backend.preprocessing import scale_data,date_processing"
   ]
  },
  {
   "cell_type": "code",
   "execution_count": 12,
   "metadata": {},
   "outputs": [
    {
     "data": {
      "text/plain": [
       "DroughtModel(fips=1001, date=datetime.datetime(2000, 1, 4, 0, 0), PRECTOT=15.95, PS=100.29, QV2M=6.42, T2M=11.4, T2MDEW=6.09, T2MWET=6.1, T2M_MAX=18.09, T2M_MIN=2.16, T2M_RANGE=15.92, TS=11.31, WS10M=3.84, WS10M_MAX=5.67, WS10M_MIN=2.08, WS10M_RANGE=3.59, WS50M=6.73, WS50M_MAX=9.31, WS50M_MIN=3.74, WS50M_RANGE=5.58)"
      ]
     },
     "execution_count": 12,
     "metadata": {},
     "output_type": "execute_result"
    }
   ],
   "source": [
    "example_data = DroughtModel.Config.json_schema_extra[\"example\"]\n",
    "drought_instance = DroughtModel(**example_data)\n",
    "drought_instance"
   ]
  },
  {
   "cell_type": "code",
   "execution_count": 58,
   "metadata": {},
   "outputs": [
    {
     "name": "stderr",
     "output_type": "stream",
     "text": [
      "/tmp/ipykernel_58832/761339514.py:1: PydanticDeprecatedSince20: The `dict` method is deprecated; use `model_dump` instead. Deprecated in Pydantic V2.0 to be removed in V3.0. See Pydantic V2 Migration Guide at https://errors.pydantic.dev/2.10/migration/\n",
      "  data= pd.DataFrame(drought_instance.dict(),index=[0])\n"
     ]
    },
    {
     "data": {
      "text/html": [
       "<div>\n",
       "<style scoped>\n",
       "    .dataframe tbody tr th:only-of-type {\n",
       "        vertical-align: middle;\n",
       "    }\n",
       "\n",
       "    .dataframe tbody tr th {\n",
       "        vertical-align: top;\n",
       "    }\n",
       "\n",
       "    .dataframe thead th {\n",
       "        text-align: right;\n",
       "    }\n",
       "</style>\n",
       "<table border=\"1\" class=\"dataframe\">\n",
       "  <thead>\n",
       "    <tr style=\"text-align: right;\">\n",
       "      <th></th>\n",
       "      <th>fips</th>\n",
       "      <th>date</th>\n",
       "      <th>PRECTOT</th>\n",
       "      <th>PS</th>\n",
       "      <th>QV2M</th>\n",
       "      <th>T2M</th>\n",
       "      <th>T2MDEW</th>\n",
       "      <th>T2MWET</th>\n",
       "      <th>T2M_MAX</th>\n",
       "      <th>T2M_MIN</th>\n",
       "      <th>T2M_RANGE</th>\n",
       "      <th>TS</th>\n",
       "      <th>WS10M</th>\n",
       "      <th>WS10M_MAX</th>\n",
       "      <th>WS10M_MIN</th>\n",
       "      <th>WS10M_RANGE</th>\n",
       "      <th>WS50M</th>\n",
       "      <th>WS50M_MAX</th>\n",
       "      <th>WS50M_MIN</th>\n",
       "      <th>WS50M_RANGE</th>\n",
       "    </tr>\n",
       "  </thead>\n",
       "  <tbody>\n",
       "    <tr>\n",
       "      <th>0</th>\n",
       "      <td>1001</td>\n",
       "      <td>2000-01-04</td>\n",
       "      <td>15.95</td>\n",
       "      <td>100.29</td>\n",
       "      <td>6.42</td>\n",
       "      <td>11.4</td>\n",
       "      <td>6.09</td>\n",
       "      <td>6.1</td>\n",
       "      <td>18.09</td>\n",
       "      <td>2.16</td>\n",
       "      <td>15.92</td>\n",
       "      <td>11.31</td>\n",
       "      <td>3.84</td>\n",
       "      <td>5.67</td>\n",
       "      <td>2.08</td>\n",
       "      <td>3.59</td>\n",
       "      <td>6.73</td>\n",
       "      <td>9.31</td>\n",
       "      <td>3.74</td>\n",
       "      <td>5.58</td>\n",
       "    </tr>\n",
       "  </tbody>\n",
       "</table>\n",
       "</div>"
      ],
      "text/plain": [
       "   fips       date  PRECTOT      PS  QV2M   T2M  T2MDEW  T2MWET  T2M_MAX  \\\n",
       "0  1001 2000-01-04    15.95  100.29  6.42  11.4    6.09     6.1    18.09   \n",
       "\n",
       "   T2M_MIN  T2M_RANGE     TS  WS10M  WS10M_MAX  WS10M_MIN  WS10M_RANGE  WS50M  \\\n",
       "0     2.16      15.92  11.31   3.84       5.67       2.08         3.59   6.73   \n",
       "\n",
       "   WS50M_MAX  WS50M_MIN  WS50M_RANGE  \n",
       "0       9.31       3.74         5.58  "
      ]
     },
     "execution_count": 58,
     "metadata": {},
     "output_type": "execute_result"
    }
   ],
   "source": [
    "data= pd.DataFrame(drought_instance.dict(),index=[0])\n",
    "data"
   ]
  },
  {
   "cell_type": "code",
   "execution_count": 59,
   "metadata": {},
   "outputs": [
    {
     "ename": "TypeError",
     "evalue": "file must have 'read' and 'readline' attributes",
     "output_type": "error",
     "traceback": [
      "\u001b[0;31m---------------------------------------------------------------------------\u001b[0m",
      "\u001b[0;31mTypeError\u001b[0m                                 Traceback (most recent call last)",
      "Cell \u001b[0;32mIn[59], line 4\u001b[0m\n\u001b[1;32m      1\u001b[0m \u001b[38;5;28;01mimport\u001b[39;00m \u001b[38;5;21;01mpickle\u001b[39;00m\n\u001b[1;32m      2\u001b[0m data \u001b[38;5;241m=\u001b[39m date_processing(data)\n\u001b[0;32m----> 4\u001b[0m df \u001b[38;5;241m=\u001b[39m \u001b[43mscale_data\u001b[49m\u001b[43m(\u001b[49m\u001b[43mdata\u001b[49m\u001b[43m)\u001b[49m\n\u001b[1;32m      5\u001b[0m df\n",
      "File \u001b[0;32m~/MLOps/backend/preprocessing.py:16\u001b[0m, in \u001b[0;36mscale_data\u001b[0;34m(df)\u001b[0m\n\u001b[1;32m     15\u001b[0m \u001b[38;5;28;01mdef\u001b[39;00m \u001b[38;5;21mscale_data\u001b[39m(df):\n\u001b[0;32m---> 16\u001b[0m     scalar \u001b[38;5;241m=\u001b[39m \u001b[43mpickle\u001b[49m\u001b[38;5;241;43m.\u001b[39;49m\u001b[43mload\u001b[49m\u001b[43m(\u001b[49m\u001b[38;5;124;43m'\u001b[39;49m\u001b[38;5;124;43mmodels/standard_scaler.pkl\u001b[39;49m\u001b[38;5;124;43m'\u001b[39;49m\u001b[43m)\u001b[49m\n\u001b[1;32m     17\u001b[0m     df \u001b[38;5;241m=\u001b[39m scalar\u001b[38;5;241m.\u001b[39mtransform(df)\n\u001b[1;32m     18\u001b[0m     \u001b[38;5;28;01mreturn\u001b[39;00m df\n",
      "\u001b[0;31mTypeError\u001b[0m: file must have 'read' and 'readline' attributes"
     ]
    }
   ],
   "source": [
    "import pickle\n",
    "from backend.preprocessing import scale_data,date_processing\n",
    "data = date_processing(data)\n",
    "\n",
    "df = scale_data(data)\n",
    "df"
   ]
  },
  {
   "cell_type": "code",
   "execution_count": 43,
   "metadata": {},
   "outputs": [
    {
     "data": {
      "text/html": [
       "<div>\n",
       "<style scoped>\n",
       "    .dataframe tbody tr th:only-of-type {\n",
       "        vertical-align: middle;\n",
       "    }\n",
       "\n",
       "    .dataframe tbody tr th {\n",
       "        vertical-align: top;\n",
       "    }\n",
       "\n",
       "    .dataframe thead th {\n",
       "        text-align: right;\n",
       "    }\n",
       "</style>\n",
       "<table border=\"1\" class=\"dataframe\">\n",
       "  <thead>\n",
       "    <tr style=\"text-align: right;\">\n",
       "      <th></th>\n",
       "      <th>fips</th>\n",
       "      <th>PRECTOT</th>\n",
       "      <th>PS</th>\n",
       "      <th>QV2M</th>\n",
       "      <th>T2M</th>\n",
       "      <th>T2MDEW</th>\n",
       "      <th>T2MWET</th>\n",
       "      <th>T2M_MAX</th>\n",
       "      <th>T2M_MIN</th>\n",
       "      <th>T2M_RANGE</th>\n",
       "      <th>...</th>\n",
       "      <th>WS10M_MAX</th>\n",
       "      <th>WS10M_MIN</th>\n",
       "      <th>WS10M_RANGE</th>\n",
       "      <th>WS50M</th>\n",
       "      <th>WS50M_MAX</th>\n",
       "      <th>WS50M_MIN</th>\n",
       "      <th>WS50M_RANGE</th>\n",
       "      <th>year</th>\n",
       "      <th>month</th>\n",
       "      <th>day</th>\n",
       "    </tr>\n",
       "  </thead>\n",
       "  <tbody>\n",
       "    <tr>\n",
       "      <th>0</th>\n",
       "      <td>1001</td>\n",
       "      <td>15.95</td>\n",
       "      <td>100.29</td>\n",
       "      <td>6.42</td>\n",
       "      <td>11.4</td>\n",
       "      <td>6.09</td>\n",
       "      <td>6.1</td>\n",
       "      <td>18.09</td>\n",
       "      <td>2.16</td>\n",
       "      <td>15.92</td>\n",
       "      <td>...</td>\n",
       "      <td>5.67</td>\n",
       "      <td>2.08</td>\n",
       "      <td>3.59</td>\n",
       "      <td>6.73</td>\n",
       "      <td>9.31</td>\n",
       "      <td>3.74</td>\n",
       "      <td>5.58</td>\n",
       "      <td>2000</td>\n",
       "      <td>1</td>\n",
       "      <td>4</td>\n",
       "    </tr>\n",
       "  </tbody>\n",
       "</table>\n",
       "<p>1 rows × 22 columns</p>\n",
       "</div>"
      ],
      "text/plain": [
       "   fips  PRECTOT      PS  QV2M   T2M  T2MDEW  T2MWET  T2M_MAX  T2M_MIN  \\\n",
       "0  1001    15.95  100.29  6.42  11.4    6.09     6.1    18.09     2.16   \n",
       "\n",
       "   T2M_RANGE  ...  WS10M_MAX  WS10M_MIN  WS10M_RANGE  WS50M  WS50M_MAX  \\\n",
       "0      15.92  ...       5.67       2.08         3.59   6.73       9.31   \n",
       "\n",
       "   WS50M_MIN  WS50M_RANGE  year  month  day  \n",
       "0       3.74         5.58  2000      1    4  \n",
       "\n",
       "[1 rows x 22 columns]"
      ]
     },
     "execution_count": 43,
     "metadata": {},
     "output_type": "execute_result"
    }
   ],
   "source": [
    "data"
   ]
  },
  {
   "cell_type": "code",
   "execution_count": 56,
   "metadata": {},
   "outputs": [
    {
     "data": {
      "text/plain": [
       "array([1])"
      ]
     },
     "execution_count": 56,
     "metadata": {},
     "output_type": "execute_result"
    }
   ],
   "source": [
    "# Colonnes attendues par le modèle\n",
    "columns = ['fips', 'PRECTOT', 'PS', 'QV2M', 'T2M', 'T2MDEW', 'T2MWET',\n",
    "           'T2M_MAX', 'T2M_MIN', 'T2M_RANGE', 'TS', 'WS10M', 'WS10M_MAX',\n",
    "           'WS10M_MIN', 'WS10M_RANGE', 'WS50M', 'WS50M_MAX', 'WS50M_MIN',\n",
    "           'WS50M_RANGE', 'year', 'month', 'day']\n",
    "\n",
    "# Conversion en DataFrame\n",
    "df = pd.DataFrame(df, columns=columns)\n",
    "loaded_model.predict(df)"
   ]
  },
  {
   "cell_type": "code",
   "execution_count": null,
   "metadata": {},
   "outputs": [],
   "source": []
  }
 ],
 "metadata": {
  "kernelspec": {
   "display_name": "mlopsenv",
   "language": "python",
   "name": "python3"
  },
  "language_info": {
   "codemirror_mode": {
    "name": "ipython",
    "version": 3
   },
   "file_extension": ".py",
   "mimetype": "text/x-python",
   "name": "python",
   "nbconvert_exporter": "python",
   "pygments_lexer": "ipython3",
   "version": "3.12.7"
  }
 },
 "nbformat": 4,
 "nbformat_minor": 2
}
