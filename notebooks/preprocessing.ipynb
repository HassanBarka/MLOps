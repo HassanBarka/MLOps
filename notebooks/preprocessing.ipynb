{
 "cells": [
  {
   "cell_type": "code",
   "execution_count": 24,
   "metadata": {},
   "outputs": [],
   "source": [
    "import os\n",
    "import subprocess\n",
    "import numpy as np\n",
    "import pandas as pd\n",
    "import matplotlib.pyplot as plt\n",
    "from imblearn.over_sampling import SMOTE\n",
    "from sklearn.feature_selection import RFE\n",
    "from sklearn.preprocessing import StandardScaler\n",
    "from sklearn.decomposition import PCA, KernelPCA\n",
    "from sklearn.ensemble import RandomForestClassifier\n",
    "from sklearn.model_selection import train_test_split\n",
    "from sklearn.feature_selection import VarianceThreshold\n",
    "from sklearn.feature_selection import SelectKBest, f_classif\n",
    "from imblearn.under_sampling import NearMiss"
   ]
  },
  {
   "cell_type": "code",
   "execution_count": 3,
   "metadata": {},
   "outputs": [
    {
     "data": {
      "text/html": [
       "<div>\n",
       "<style scoped>\n",
       "    .dataframe tbody tr th:only-of-type {\n",
       "        vertical-align: middle;\n",
       "    }\n",
       "\n",
       "    .dataframe tbody tr th {\n",
       "        vertical-align: top;\n",
       "    }\n",
       "\n",
       "    .dataframe thead th {\n",
       "        text-align: right;\n",
       "    }\n",
       "</style>\n",
       "<table border=\"1\" class=\"dataframe\">\n",
       "  <thead>\n",
       "    <tr style=\"text-align: right;\">\n",
       "      <th></th>\n",
       "      <th>fips</th>\n",
       "      <th>date</th>\n",
       "      <th>PRECTOT</th>\n",
       "      <th>PS</th>\n",
       "      <th>QV2M</th>\n",
       "      <th>T2M</th>\n",
       "      <th>T2MDEW</th>\n",
       "      <th>T2MWET</th>\n",
       "      <th>T2M_MAX</th>\n",
       "      <th>T2M_MIN</th>\n",
       "      <th>...</th>\n",
       "      <th>TS</th>\n",
       "      <th>WS10M</th>\n",
       "      <th>WS10M_MAX</th>\n",
       "      <th>WS10M_MIN</th>\n",
       "      <th>WS10M_RANGE</th>\n",
       "      <th>WS50M</th>\n",
       "      <th>WS50M_MAX</th>\n",
       "      <th>WS50M_MIN</th>\n",
       "      <th>WS50M_RANGE</th>\n",
       "      <th>score</th>\n",
       "    </tr>\n",
       "  </thead>\n",
       "  <tbody>\n",
       "    <tr>\n",
       "      <th>0</th>\n",
       "      <td>1001</td>\n",
       "      <td>2000-01-04</td>\n",
       "      <td>15.95</td>\n",
       "      <td>100.29</td>\n",
       "      <td>6.42</td>\n",
       "      <td>11.40</td>\n",
       "      <td>6.09</td>\n",
       "      <td>6.10</td>\n",
       "      <td>18.09</td>\n",
       "      <td>2.16</td>\n",
       "      <td>...</td>\n",
       "      <td>11.31</td>\n",
       "      <td>3.84</td>\n",
       "      <td>5.67</td>\n",
       "      <td>2.08</td>\n",
       "      <td>3.59</td>\n",
       "      <td>6.73</td>\n",
       "      <td>9.31</td>\n",
       "      <td>3.74</td>\n",
       "      <td>5.58</td>\n",
       "      <td>1</td>\n",
       "    </tr>\n",
       "    <tr>\n",
       "      <th>1</th>\n",
       "      <td>1001</td>\n",
       "      <td>2000-01-11</td>\n",
       "      <td>1.33</td>\n",
       "      <td>100.40</td>\n",
       "      <td>6.63</td>\n",
       "      <td>11.48</td>\n",
       "      <td>7.84</td>\n",
       "      <td>7.84</td>\n",
       "      <td>18.88</td>\n",
       "      <td>5.72</td>\n",
       "      <td>...</td>\n",
       "      <td>10.43</td>\n",
       "      <td>1.76</td>\n",
       "      <td>2.48</td>\n",
       "      <td>1.05</td>\n",
       "      <td>1.43</td>\n",
       "      <td>3.55</td>\n",
       "      <td>6.38</td>\n",
       "      <td>1.71</td>\n",
       "      <td>4.67</td>\n",
       "      <td>2</td>\n",
       "    </tr>\n",
       "    <tr>\n",
       "      <th>2</th>\n",
       "      <td>1001</td>\n",
       "      <td>2000-01-18</td>\n",
       "      <td>1.11</td>\n",
       "      <td>100.39</td>\n",
       "      <td>9.53</td>\n",
       "      <td>14.28</td>\n",
       "      <td>13.26</td>\n",
       "      <td>13.26</td>\n",
       "      <td>18.04</td>\n",
       "      <td>8.98</td>\n",
       "      <td>...</td>\n",
       "      <td>14.19</td>\n",
       "      <td>2.63</td>\n",
       "      <td>3.60</td>\n",
       "      <td>1.67</td>\n",
       "      <td>1.92</td>\n",
       "      <td>5.19</td>\n",
       "      <td>6.40</td>\n",
       "      <td>3.84</td>\n",
       "      <td>2.55</td>\n",
       "      <td>2</td>\n",
       "    </tr>\n",
       "    <tr>\n",
       "      <th>3</th>\n",
       "      <td>1001</td>\n",
       "      <td>2000-01-25</td>\n",
       "      <td>0.00</td>\n",
       "      <td>100.11</td>\n",
       "      <td>2.05</td>\n",
       "      <td>-0.78</td>\n",
       "      <td>-7.93</td>\n",
       "      <td>-7.72</td>\n",
       "      <td>5.65</td>\n",
       "      <td>-5.46</td>\n",
       "      <td>...</td>\n",
       "      <td>-0.61</td>\n",
       "      <td>3.35</td>\n",
       "      <td>4.59</td>\n",
       "      <td>2.28</td>\n",
       "      <td>2.32</td>\n",
       "      <td>5.75</td>\n",
       "      <td>8.03</td>\n",
       "      <td>3.96</td>\n",
       "      <td>4.07</td>\n",
       "      <td>2</td>\n",
       "    </tr>\n",
       "    <tr>\n",
       "      <th>4</th>\n",
       "      <td>1001</td>\n",
       "      <td>2000-02-01</td>\n",
       "      <td>0.00</td>\n",
       "      <td>101.00</td>\n",
       "      <td>3.36</td>\n",
       "      <td>2.06</td>\n",
       "      <td>-1.73</td>\n",
       "      <td>-1.70</td>\n",
       "      <td>11.02</td>\n",
       "      <td>-4.21</td>\n",
       "      <td>...</td>\n",
       "      <td>1.88</td>\n",
       "      <td>2.03</td>\n",
       "      <td>2.74</td>\n",
       "      <td>0.88</td>\n",
       "      <td>1.86</td>\n",
       "      <td>4.18</td>\n",
       "      <td>6.38</td>\n",
       "      <td>1.27</td>\n",
       "      <td>5.11</td>\n",
       "      <td>1</td>\n",
       "    </tr>\n",
       "  </tbody>\n",
       "</table>\n",
       "<p>5 rows × 21 columns</p>\n",
       "</div>"
      ],
      "text/plain": [
       "   fips        date  PRECTOT      PS  QV2M    T2M  T2MDEW  T2MWET  T2M_MAX  \\\n",
       "0  1001  2000-01-04    15.95  100.29  6.42  11.40    6.09    6.10    18.09   \n",
       "1  1001  2000-01-11     1.33  100.40  6.63  11.48    7.84    7.84    18.88   \n",
       "2  1001  2000-01-18     1.11  100.39  9.53  14.28   13.26   13.26    18.04   \n",
       "3  1001  2000-01-25     0.00  100.11  2.05  -0.78   -7.93   -7.72     5.65   \n",
       "4  1001  2000-02-01     0.00  101.00  3.36   2.06   -1.73   -1.70    11.02   \n",
       "\n",
       "   T2M_MIN  ...     TS  WS10M  WS10M_MAX  WS10M_MIN  WS10M_RANGE  WS50M  \\\n",
       "0     2.16  ...  11.31   3.84       5.67       2.08         3.59   6.73   \n",
       "1     5.72  ...  10.43   1.76       2.48       1.05         1.43   3.55   \n",
       "2     8.98  ...  14.19   2.63       3.60       1.67         1.92   5.19   \n",
       "3    -5.46  ...  -0.61   3.35       4.59       2.28         2.32   5.75   \n",
       "4    -4.21  ...   1.88   2.03       2.74       0.88         1.86   4.18   \n",
       "\n",
       "   WS50M_MAX  WS50M_MIN  WS50M_RANGE  score  \n",
       "0       9.31       3.74         5.58      1  \n",
       "1       6.38       1.71         4.67      2  \n",
       "2       6.40       3.84         2.55      2  \n",
       "3       8.03       3.96         4.07      2  \n",
       "4       6.38       1.27         5.11      1  \n",
       "\n",
       "[5 rows x 21 columns]"
      ]
     },
     "execution_count": 3,
     "metadata": {},
     "output_type": "execute_result"
    }
   ],
   "source": [
    "drought_df = pd.read_csv('../data/drought_v1.csv')\n",
    "drought_df.head()"
   ]
  },
  {
   "cell_type": "code",
   "execution_count": 4,
   "metadata": {},
   "outputs": [
    {
     "data": {
      "text/plain": [
       "(1460760, 21)"
      ]
     },
     "execution_count": 4,
     "metadata": {},
     "output_type": "execute_result"
    }
   ],
   "source": [
    "drought_df.shape"
   ]
  },
  {
   "cell_type": "code",
   "execution_count": 5,
   "metadata": {},
   "outputs": [
    {
     "name": "stdout",
     "output_type": "stream",
     "text": [
      "<class 'pandas.core.frame.DataFrame'>\n",
      "RangeIndex: 1460760 entries, 0 to 1460759\n",
      "Data columns (total 21 columns):\n",
      " #   Column       Non-Null Count    Dtype  \n",
      "---  ------       --------------    -----  \n",
      " 0   fips         1460760 non-null  int64  \n",
      " 1   date         1460760 non-null  object \n",
      " 2   PRECTOT      1460760 non-null  float64\n",
      " 3   PS           1460760 non-null  float64\n",
      " 4   QV2M         1460760 non-null  float64\n",
      " 5   T2M          1460760 non-null  float64\n",
      " 6   T2MDEW       1460760 non-null  float64\n",
      " 7   T2MWET       1460760 non-null  float64\n",
      " 8   T2M_MAX      1460760 non-null  float64\n",
      " 9   T2M_MIN      1460760 non-null  float64\n",
      " 10  T2M_RANGE    1460760 non-null  float64\n",
      " 11  TS           1460760 non-null  float64\n",
      " 12  WS10M        1460760 non-null  float64\n",
      " 13  WS10M_MAX    1460760 non-null  float64\n",
      " 14  WS10M_MIN    1460760 non-null  float64\n",
      " 15  WS10M_RANGE  1460760 non-null  float64\n",
      " 16  WS50M        1460760 non-null  float64\n",
      " 17  WS50M_MAX    1460760 non-null  float64\n",
      " 18  WS50M_MIN    1460760 non-null  float64\n",
      " 19  WS50M_RANGE  1460760 non-null  float64\n",
      " 20  score        1460760 non-null  int64  \n",
      "dtypes: float64(18), int64(2), object(1)\n",
      "memory usage: 234.0+ MB\n"
     ]
    }
   ],
   "source": [
    "drought_df.info()"
   ]
  },
  {
   "cell_type": "markdown",
   "metadata": {},
   "source": [
    "##### Check if there is any Missing Values"
   ]
  },
  {
   "cell_type": "code",
   "execution_count": 6,
   "metadata": {},
   "outputs": [
    {
     "data": {
      "text/plain": [
       "fips           0\n",
       "date           0\n",
       "PRECTOT        0\n",
       "PS             0\n",
       "QV2M           0\n",
       "T2M            0\n",
       "T2MDEW         0\n",
       "T2MWET         0\n",
       "T2M_MAX        0\n",
       "T2M_MIN        0\n",
       "T2M_RANGE      0\n",
       "TS             0\n",
       "WS10M          0\n",
       "WS10M_MAX      0\n",
       "WS10M_MIN      0\n",
       "WS10M_RANGE    0\n",
       "WS50M          0\n",
       "WS50M_MAX      0\n",
       "WS50M_MIN      0\n",
       "WS50M_RANGE    0\n",
       "score          0\n",
       "dtype: int64"
      ]
     },
     "execution_count": 6,
     "metadata": {},
     "output_type": "execute_result"
    }
   ],
   "source": [
    "drought_df.isnull().sum()"
   ]
  },
  {
   "cell_type": "markdown",
   "metadata": {},
   "source": [
    "##### Check if there is any duplicated values"
   ]
  },
  {
   "cell_type": "code",
   "execution_count": 7,
   "metadata": {},
   "outputs": [
    {
     "data": {
      "text/html": [
       "<div>\n",
       "<style scoped>\n",
       "    .dataframe tbody tr th:only-of-type {\n",
       "        vertical-align: middle;\n",
       "    }\n",
       "\n",
       "    .dataframe tbody tr th {\n",
       "        vertical-align: top;\n",
       "    }\n",
       "\n",
       "    .dataframe thead th {\n",
       "        text-align: right;\n",
       "    }\n",
       "</style>\n",
       "<table border=\"1\" class=\"dataframe\">\n",
       "  <thead>\n",
       "    <tr style=\"text-align: right;\">\n",
       "      <th></th>\n",
       "      <th>fips</th>\n",
       "      <th>date</th>\n",
       "      <th>PRECTOT</th>\n",
       "      <th>PS</th>\n",
       "      <th>QV2M</th>\n",
       "      <th>T2M</th>\n",
       "      <th>T2MDEW</th>\n",
       "      <th>T2MWET</th>\n",
       "      <th>T2M_MAX</th>\n",
       "      <th>T2M_MIN</th>\n",
       "      <th>...</th>\n",
       "      <th>TS</th>\n",
       "      <th>WS10M</th>\n",
       "      <th>WS10M_MAX</th>\n",
       "      <th>WS10M_MIN</th>\n",
       "      <th>WS10M_RANGE</th>\n",
       "      <th>WS50M</th>\n",
       "      <th>WS50M_MAX</th>\n",
       "      <th>WS50M_MIN</th>\n",
       "      <th>WS50M_RANGE</th>\n",
       "      <th>score</th>\n",
       "    </tr>\n",
       "  </thead>\n",
       "  <tbody>\n",
       "  </tbody>\n",
       "</table>\n",
       "<p>0 rows × 21 columns</p>\n",
       "</div>"
      ],
      "text/plain": [
       "Empty DataFrame\n",
       "Columns: [fips, date, PRECTOT, PS, QV2M, T2M, T2MDEW, T2MWET, T2M_MAX, T2M_MIN, T2M_RANGE, TS, WS10M, WS10M_MAX, WS10M_MIN, WS10M_RANGE, WS50M, WS50M_MAX, WS50M_MIN, WS50M_RANGE, score]\n",
       "Index: []\n",
       "\n",
       "[0 rows x 21 columns]"
      ]
     },
     "execution_count": 7,
     "metadata": {},
     "output_type": "execute_result"
    }
   ],
   "source": [
    "drought_df[drought_df.duplicated()]\n"
   ]
  },
  {
   "cell_type": "code",
   "execution_count": 8,
   "metadata": {},
   "outputs": [
    {
     "data": {
      "text/plain": [
       "np.int64(0)"
      ]
     },
     "execution_count": 8,
     "metadata": {},
     "output_type": "execute_result"
    }
   ],
   "source": [
    "drought_df.duplicated().sum()"
   ]
  },
  {
   "cell_type": "code",
   "execution_count": 9,
   "metadata": {},
   "outputs": [
    {
     "name": "stdout",
     "output_type": "stream",
     "text": [
      "<class 'pandas.core.frame.DataFrame'>\n",
      "RangeIndex: 1460760 entries, 0 to 1460759\n",
      "Data columns (total 23 columns):\n",
      " #   Column       Non-Null Count    Dtype  \n",
      "---  ------       --------------    -----  \n",
      " 0   fips         1460760 non-null  int64  \n",
      " 1   PRECTOT      1460760 non-null  float64\n",
      " 2   PS           1460760 non-null  float64\n",
      " 3   QV2M         1460760 non-null  float64\n",
      " 4   T2M          1460760 non-null  float64\n",
      " 5   T2MDEW       1460760 non-null  float64\n",
      " 6   T2MWET       1460760 non-null  float64\n",
      " 7   T2M_MAX      1460760 non-null  float64\n",
      " 8   T2M_MIN      1460760 non-null  float64\n",
      " 9   T2M_RANGE    1460760 non-null  float64\n",
      " 10  TS           1460760 non-null  float64\n",
      " 11  WS10M        1460760 non-null  float64\n",
      " 12  WS10M_MAX    1460760 non-null  float64\n",
      " 13  WS10M_MIN    1460760 non-null  float64\n",
      " 14  WS10M_RANGE  1460760 non-null  float64\n",
      " 15  WS50M        1460760 non-null  float64\n",
      " 16  WS50M_MAX    1460760 non-null  float64\n",
      " 17  WS50M_MIN    1460760 non-null  float64\n",
      " 18  WS50M_RANGE  1460760 non-null  float64\n",
      " 19  score        1460760 non-null  int64  \n",
      " 20  year         1460760 non-null  int32  \n",
      " 21  month        1460760 non-null  int32  \n",
      " 22  day          1460760 non-null  int32  \n",
      "dtypes: float64(18), int32(3), int64(2)\n",
      "memory usage: 239.6 MB\n"
     ]
    }
   ],
   "source": [
    "def date_processing(df, date_column):\n",
    "    \n",
    "    df['year'] = pd.DatetimeIndex(df[date_column]).year\n",
    "    df['month'] = pd.DatetimeIndex(df[date_column]).month\n",
    "    df['day'] = pd.DatetimeIndex(df[date_column]).day\n",
    "    df.drop(columns=date_column,inplace=True)\n",
    "    \n",
    "    return df\n",
    "\n",
    "drought_df = date_processing(drought_df, 'date')\n",
    "drought_df.info()"
   ]
  },
  {
   "cell_type": "code",
   "execution_count": 10,
   "metadata": {},
   "outputs": [
    {
     "name": "stdout",
     "output_type": "stream",
     "text": [
      "Total rows =  1315824\n"
     ]
    }
   ],
   "source": [
    "import pandas as pd\n",
    "\n",
    "def remove_outliers(df, columns, threshold=3):\n",
    "    for column in columns:\n",
    "        mean = df[column].mean()\n",
    "        std_dev = df[column].std()\n",
    "        df = df[(df[column] <= mean + threshold * std_dev) & \n",
    "                (df[column] >= mean - threshold * std_dev)]\n",
    "    \n",
    "    return df\n",
    "\n",
    "# List of columns to filter\n",
    "columns_to_filter = [\n",
    "    'PRECTOT', 'PS', 'QV2M', 'T2M', 'T2MDEW', 'T2MWET', 'T2M_MAX', 'T2M_MIN', \n",
    "    'T2M_RANGE', 'TS', 'WS10M', 'WS10M_MAX', 'WS10M_MIN', 'WS10M_RANGE', \n",
    "    'WS50M', 'WS50M_MAX', 'WS50M_MIN', 'WS50M_RANGE'\n",
    "]\n",
    "\n",
    "drought_df = remove_outliers(drought_df, columns_to_filter)\n",
    "print('Total rows = ', len(drought_df.index))"
   ]
  },
  {
   "cell_type": "markdown",
   "metadata": {},
   "source": [
    "##### Splitting into train and test"
   ]
  },
  {
   "cell_type": "code",
   "execution_count": 11,
   "metadata": {},
   "outputs": [
    {
     "data": {
      "text/plain": [
       "0    1\n",
       "1    2\n",
       "2    2\n",
       "3    2\n",
       "4    1\n",
       "Name: score, dtype: int64"
      ]
     },
     "execution_count": 11,
     "metadata": {},
     "output_type": "execute_result"
    }
   ],
   "source": [
    "target = drought_df['score']\n",
    "target.head()"
   ]
  },
  {
   "cell_type": "code",
   "execution_count": 12,
   "metadata": {},
   "outputs": [
    {
     "data": {
      "text/plain": [
       "Index(['fips', 'PRECTOT', 'PS', 'QV2M', 'T2M', 'T2MDEW', 'T2MWET', 'T2M_MAX',\n",
       "       'T2M_MIN', 'T2M_RANGE', 'TS', 'WS10M', 'WS10M_MAX', 'WS10M_MIN',\n",
       "       'WS10M_RANGE', 'WS50M', 'WS50M_MAX', 'WS50M_MIN', 'WS50M_RANGE', 'year',\n",
       "       'month', 'day'],\n",
       "      dtype='object')"
      ]
     },
     "execution_count": 12,
     "metadata": {},
     "output_type": "execute_result"
    }
   ],
   "source": [
    "independent_variables = drought_df.drop('score', axis=1)\n",
    "independent_variables.columns"
   ]
  },
  {
   "cell_type": "code",
   "execution_count": 13,
   "metadata": {},
   "outputs": [
    {
     "name": "stdout",
     "output_type": "stream",
     "text": [
      "X_train shape:  (1052659, 22)\n",
      "y_train shape:  (1052659,)\n",
      "X_test shape:  (263165, 22)\n",
      "y_test shape:  (263165,)\n"
     ]
    }
   ],
   "source": [
    "X_train, X_test, y_train, y_test = train_test_split(independent_variables, target, test_size=0.2, random_state=42, stratify=target)\n",
    "print(\"X_train shape: \",X_train.shape)\n",
    "print(\"y_train shape: \",y_train.shape)\n",
    "print(\"X_test shape: \",X_test.shape)\n",
    "print(\"y_test shape: \",y_test.shape)"
   ]
  },
  {
   "cell_type": "markdown",
   "metadata": {},
   "source": [
    "##### Feature Selection"
   ]
  },
  {
   "cell_type": "code",
   "execution_count": 14,
   "metadata": {},
   "outputs": [
    {
     "data": {
      "image/png": "[encoded data removed]",
      "text/plain": [
       "<Figure size 1000x600 with 1 Axes>"
      ]
     },
     "metadata": {},
     "output_type": "display_data"
    }
   ],
   "source": [
    "classifier = RandomForestClassifier(n_estimators=10) # n is 100 by default we reduced it\n",
    "classifier.fit(X_train, y_train)\n",
    "\n",
    "feature_importance = classifier.feature_importances_\n",
    "\n",
    "plt.figure(figsize=(10, 6))\n",
    "plt.bar(independent_variables.columns, feature_importance)\n",
    "# plt.bar(X_train.columns, feature_importance)\n",
    "\n",
    "plt.xlabel('Features')\n",
    "plt.ylabel('Importance Scores')\n",
    "plt.title('Feature Importance Scores')\n",
    "plt.xticks(rotation=45)\n",
    "plt.show()"
   ]
  },
  {
   "cell_type": "code",
   "execution_count": 15,
   "metadata": {},
   "outputs": [
    {
     "name": "stdout",
     "output_type": "stream",
     "text": [
      "Num Features: 15\n",
      "Selected Features: [ True False  True  True  True  True False  True  True  True  True  True\n",
      " False False  True  True False False  True  True False  True]\n",
      "Feature Ranking: [1 5 1 1 1 1 3 1 1 1 1 1 6 8 1 1 2 7 1 1 4 1]\n",
      "Index(['fips', 'PS', 'QV2M', 'T2M', 'T2MDEW', 'T2M_MAX', 'T2M_MIN',\n",
      "       'T2M_RANGE', 'TS', 'WS10M', 'WS10M_RANGE', 'WS50M', 'WS50M_RANGE',\n",
      "       'year', 'day'],\n",
      "      dtype='object')\n"
     ]
    }
   ],
   "source": [
    "# Feature selection using RFE (Recursive Feature Elimination) with RandomForest\n",
    "\n",
    "model = RandomForestClassifier(n_estimators=10) # n_estimators is the hyperparameter\n",
    "rfe = RFE(model, n_features_to_select=15) \n",
    "fit = rfe.fit(X_train, y_train)\n",
    "print(\"Num Features: %s\" % (fit.n_features_))\n",
    "print(\"Selected Features: %s\" % (fit.support_))\n",
    "print(\"Feature Ranking: %s\" % (fit.ranking_))\n",
    "selected_features = independent_variables.columns[(fit.get_support())]\n",
    "print(selected_features)"
   ]
  },
  {
   "cell_type": "code",
   "execution_count": 16,
   "metadata": {},
   "outputs": [
    {
     "name": "stdout",
     "output_type": "stream",
     "text": [
      "Features after variance thresholding: Index(['fips', 'PRECTOT', 'PS', 'QV2M', 'T2M', 'T2MDEW', 'T2MWET', 'T2M_MAX',\n",
      "       'T2M_MIN', 'T2M_RANGE', 'TS', 'WS10M_MAX', 'WS50M', 'WS50M_MAX',\n",
      "       'WS50M_MIN', 'year', 'month', 'day'],\n",
      "      dtype='object')\n"
     ]
    }
   ],
   "source": [
    "selector = VarianceThreshold(threshold=3.5)  # Adjust threshold as needed\n",
    "X_train_var = selector.fit_transform(X_train)\n",
    "X_test_var = selector.transform(X_test)\n",
    "\n",
    "# Get the remaining features after applying variance threshold\n",
    "remaining_features = X_train.columns[selector.get_support()]\n",
    "print(f\"Features after variance thresholding: {remaining_features}\")"
   ]
  },
  {
   "cell_type": "code",
   "execution_count": 17,
   "metadata": {},
   "outputs": [
    {
     "name": "stdout",
     "output_type": "stream",
     "text": [
      "Selected Features: Index(['PRECTOT', 'PS', 'QV2M', 'T2M', 'T2MDEW', 'T2MWET', 'T2M_MAX',\n",
      "       'T2M_MIN', 'T2M_RANGE', 'TS', 'WS10M', 'WS10M_MAX', 'WS10M_RANGE',\n",
      "       'WS50M_RANGE', 'year'],\n",
      "      dtype='object')\n"
     ]
    }
   ],
   "source": [
    "selector = SelectKBest(score_func=f_classif, k=15)  # Select the top 15 features\n",
    "X_train_kbest = selector.fit_transform(X_train, y_train)\n",
    "X_test_kbest = selector.transform(X_test)\n",
    "\n",
    "# Step 3: Get the selected features\n",
    "selected_features = X_train.columns[selector.get_support()]\n",
    "print(f\"Selected Features: {selected_features}\")"
   ]
  },
  {
   "cell_type": "markdown",
   "metadata": {},
   "source": [
    "##### PCA for dimensionality reduction"
   ]
  },
  {
   "cell_type": "code",
   "execution_count": 18,
   "metadata": {},
   "outputs": [],
   "source": [
    "pca = PCA()\n",
    "X_train_PCAreduced = pca.fit_transform(X_train)\n",
    "X_test_PCAreduced = pca.transform(X_test)"
   ]
  },
  {
   "cell_type": "code",
   "execution_count": 19,
   "metadata": {},
   "outputs": [
    {
     "name": "stdout",
     "output_type": "stream",
     "text": [
      "[9.99996208e-01 2.87226877e-06 3.47764866e-07 2.11884402e-07\n",
      " 9.38277880e-08 7.38336552e-08 5.11975298e-08 4.24459542e-08\n",
      " 3.34092381e-08 2.91971083e-08 2.23492716e-08 5.33027432e-09\n",
      " 3.20930581e-09 2.83468169e-09 9.03827123e-10 7.11793609e-10\n",
      " 5.55450435e-10 1.39781565e-10 6.02843517e-12 3.75329777e-14\n",
      " 3.73632337e-14 3.71719189e-14]\n"
     ]
    }
   ],
   "source": [
    "print(pca.explained_variance_ratio_)"
   ]
  },
  {
   "cell_type": "code",
   "execution_count": 20,
   "metadata": {},
   "outputs": [
    {
     "name": "stdout",
     "output_type": "stream",
     "text": [
      "[9.99996208e-01 2.87226877e-06 3.47764866e-07 2.11884402e-07\n",
      " 9.38277880e-08 7.38336552e-08 5.11975298e-08 4.24459542e-08\n",
      " 3.34092381e-08 2.91971083e-08]\n"
     ]
    }
   ],
   "source": [
    "# choosing n value that explains >90% variance\n",
    "pca = PCA(n_components=10)\n",
    "X_train_PCAreduced = pca.fit_transform(X_train)\n",
    "X_test_ = pca.transform(X_test)\n",
    "print(pca.explained_variance_ratio_)"
   ]
  },
  {
   "cell_type": "markdown",
   "metadata": {},
   "source": [
    "##### Standardizing the data\n"
   ]
  },
  {
   "cell_type": "code",
   "execution_count": 25,
   "metadata": {},
   "outputs": [],
   "source": [
    "sc = StandardScaler()\n",
    "X_train = sc.fit_transform(X_train)\n",
    "X_test = sc.transform(X_test)"
   ]
  },
  {
   "cell_type": "markdown",
   "metadata": {},
   "source": [
    "##### Fixing class imbalance\n"
   ]
  },
  {
   "cell_type": "code",
   "execution_count": 26,
   "metadata": {},
   "outputs": [
    {
     "name": "stderr",
     "output_type": "stream",
     "text": [
      "/tmp/ipykernel_392483/3966991691.py:3: FutureWarning: Series.ravel is deprecated. The underlying array is already 1D, so ravel is not necessary.  Use `to_numpy()` for conversion to a numpy array instead.\n",
      "  X_train_ups, y_train_ups = sm.fit_resample(X_train, y_train.ravel())\n"
     ]
    }
   ],
   "source": [
    "# Upsampling using SMOTE\n",
    "sm = SMOTE(random_state = 5)\n",
    "X_train_ups, y_train_ups = sm.fit_resample(X_train, y_train.ravel())"
   ]
  },
  {
   "cell_type": "code",
   "execution_count": 28,
   "metadata": {},
   "outputs": [],
   "source": [
    "def print_summary(X_train, X_train_smote, y_train, y_train_smote):\n",
    "    \n",
    "   \n",
    "    print('Before OverSampling, the shape of train_X: {}'.format(X_train.shape))\n",
    "    print('Before OverSampling, the shape of train_y: {} \\n'.format(y_train.shape))\n",
    "\n",
    "    print('After OverSampling, the shape of train_X: {}'.format(X_train_smote.shape))\n",
    "    print('After OverSampling, the shape of train_y: {} \\n'.format(y_train_smote.shape))\n",
    "    \n",
    "    # Extract unique classes from the target\n",
    "    unique_classes = sorted(set(y_train))\n",
    "    \n",
    "    # Print the counts for each class before and after oversampling\n",
    "    for label in unique_classes:\n",
    "        print(f\"Counts of label '{label}' - Before Oversampling: {sum(y_train == label)}, After OverSampling: {sum(y_train_smote == label)}\")\n"
   ]
  },
  {
   "cell_type": "code",
   "execution_count": 30,
   "metadata": {},
   "outputs": [
    {
     "name": "stdout",
     "output_type": "stream",
     "text": [
      "Before OverSampling, the shape of train_X: (1052659, 22)\n",
      "Before OverSampling, the shape of train_y: (1052659,) \n",
      "\n",
      "After OverSampling, the shape of train_X: (3686064, 22)\n",
      "After OverSampling, the shape of train_y: (3686064,) \n",
      "\n",
      "Counts of label '0' - Before Oversampling: 614344, After OverSampling: 614344\n",
      "Counts of label '1' - Before Oversampling: 180554, After OverSampling: 614344\n",
      "Counts of label '2' - Before Oversampling: 123322, After OverSampling: 614344\n",
      "Counts of label '3' - Before Oversampling: 84854, After OverSampling: 614344\n",
      "Counts of label '4' - Before Oversampling: 39718, After OverSampling: 614344\n",
      "Counts of label '5' - Before Oversampling: 9867, After OverSampling: 614344\n"
     ]
    }
   ],
   "source": [
    "print_summary(X_train,X_train_ups,y_train,y_train_ups)"
   ]
  },
  {
   "cell_type": "markdown",
   "metadata": {},
   "source": [
    "##### Downsampling using Near Miss"
   ]
  },
  {
   "cell_type": "code",
   "execution_count": 31,
   "metadata": {},
   "outputs": [],
   "source": [
    "undersample = NearMiss()\n",
    "X_train_dres, y_train_dres = undersample.fit_resample(X_train, y_train)"
   ]
  },
  {
   "cell_type": "code",
   "execution_count": 32,
   "metadata": {},
   "outputs": [
    {
     "name": "stdout",
     "output_type": "stream",
     "text": [
      "Before OverSampling, the shape of train_X: (1052659, 22)\n",
      "Before OverSampling, the shape of train_y: (1052659,) \n",
      "\n",
      "After OverSampling, the shape of train_X: (59202, 22)\n",
      "After OverSampling, the shape of train_y: (59202,) \n",
      "\n",
      "Counts of label '0' - Before Oversampling: 614344, After OverSampling: 9867\n",
      "Counts of label '1' - Before Oversampling: 180554, After OverSampling: 9867\n",
      "Counts of label '2' - Before Oversampling: 123322, After OverSampling: 9867\n",
      "Counts of label '3' - Before Oversampling: 84854, After OverSampling: 9867\n",
      "Counts of label '4' - Before Oversampling: 39718, After OverSampling: 9867\n",
      "Counts of label '5' - Before Oversampling: 9867, After OverSampling: 9867\n"
     ]
    }
   ],
   "source": [
    "print_summary(X_train,X_train_dres,y_train,y_train_dres)"
   ]
  },
  {
   "cell_type": "code",
   "execution_count": 41,
   "metadata": {},
   "outputs": [],
   "source": [
    "train_path = \"../data/train/\"\n",
    "\n",
    "os.makedirs(train_path, exist_ok=True)\n",
    "\n",
    "# Save datasets\n",
    "pd.DataFrame(X_train).to_csv(os.path.join(train_path, \"X_train.csv\"), index=False)\n",
    "pd.DataFrame(y_train).to_csv(os.path.join(train_path, \"y_train.csv\"), index=False)\n",
    "pd.DataFrame(X_train_ups).to_csv(os.path.join(train_path, \"X_train_ups.csv\"), index=False)\n",
    "pd.DataFrame(y_train_ups).to_csv(os.path.join(train_path, \"y_train_ups.csv\"), index=False)\n",
    "pd.DataFrame(X_train_dres).to_csv(os.path.join(train_path, \"X_train_dres.csv\"), index=False)\n",
    "pd.DataFrame(y_train_dres).to_csv(os.path.join(train_path, \"y_train_dres.csv\"), index=False)\n",
    "pd.DataFrame(X_test).to_csv(os.path.join(train_path, \"X_test.csv\"), index=False)\n",
    "pd.DataFrame(y_test).to_csv(os.path.join(train_path, \"y_test.csv\"), index=False)\n"
   ]
  }
 ],
 "metadata": {
  "kernelspec": {
   "display_name": "mlopsenv",
   "language": "python",
   "name": "python3"
  },
  "language_info": {
   "codemirror_mode": {
    "name": "ipython",
    "version": 3
   },
   "file_extension": ".py",
   "mimetype": "text/x-python",
   "name": "python",
   "nbconvert_exporter": "python",
   "pygments_lexer": "ipython3",
   "version": "3.12.7"
  }
 },
 "nbformat": 4,
 "nbformat_minor": 2
}
